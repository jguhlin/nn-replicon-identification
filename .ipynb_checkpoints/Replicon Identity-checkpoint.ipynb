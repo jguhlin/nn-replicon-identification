{
 "cells": [
  {
   "cell_type": "code",
   "execution_count": 1,
   "metadata": {
    "collapsed": false
   },
   "outputs": [],
   "source": [
    "import tensorflow as tf\n",
    "import numpy as np\n",
    "import matplotlib as mpl\n",
    "import matplotlib.pyplot as plt\n",
    "from scipy.sparse import csr_matrix\n",
    "from collections import Counter\n",
    "import collections\n",
    "import random\n",
    "from six.moves import urllib\n",
    "from six.moves import xrange  # pylint: disable=redefined-builtin\n",
    "import Bio\n",
    "from Bio import SeqIO\n",
    "import os\n",
    "import concurrent.futures\n",
    "import functools\n",
    "from functools import partial\n",
    "import math\n",
    "import threading\n",
    "import time\n",
    "import random\n",
    "from random import shuffle\n",
    "import pickle\n",
    "import tempfile\n",
    "\n",
    "# k-mer size to use\n",
    "k = 9\n",
    "\n",
    "#\n",
    "# NOTE!!!!!!!!!!!!!!!!\n",
    "#\n",
    "# We can reduce problem space if we get the reverse complement, and add a bit to indicate reversed or not...\n",
    "# Not really.... revcomp just doubles it back up again....\n",
    "#\n",
    "# Also -- Build a recurrent network to predict sequences that come after a given kmer?\n",
    "# Look at word2vec, dna2vec, bag of words, skip-gram\n",
    "#\n",
    "\n",
    "# Problem space\n",
    "space = 5 ** k\n",
    "\n",
    "def partition(n, step, coll):\n",
    "    for i in range(0, len(coll), step):\n",
    "        if (i+n > len(coll)):\n",
    "            break #  raise StopIteration...\n",
    "        yield coll[i:i+n]\n",
    "        \n",
    "def get_kmers(k):\n",
    "    return lambda sequence: partition(k, k, sequence)\n",
    "\n",
    "def convert_nt(c):\n",
    "    return {\"N\": 0, \"A\": 1, \"C\": 2, \"T\": 3, \"G\": 4}.get(c, 0)\n",
    "\n",
    "def convert_nt_complement(c):\n",
    "    return {\"N\": 0, \"A\": 3, \"C\": 4, \"T\": 1, \"G\": 2}.get(c, 0)\n",
    "\n",
    "def convert_kmer_to_int(kmer):\n",
    "    return int(''.join(str(x) for x in (map(convert_nt, kmer))), 5)\n",
    "\n",
    "def convert_kmer_to_int_complement(kmer):\n",
    "    return int(''.join(str(x) for x in reversed(list(map(convert_nt_complement, kmer)))), 5)\n",
    "\n",
    "def convert_base5(n):\n",
    "    return {\"0\": \"N\", \"1\": \"A\", \"2\": \"C\", \"3\": \"T\", \"4\": \"G\"}.get(n,\"N\")\n",
    "\n",
    "def convert_to_kmer(kmer):\n",
    "    return ''.join(map(convert_base5, str(np.base_repr(kmer, 5))))\n",
    "\n",
    "# Not using sparse tensors anymore.\n",
    "   \n",
    "tf.logging.set_verbosity(tf.logging.INFO)\n",
    "\n",
    "# Get all kmers, in order, with a sliding window of k (but sliding 1bp for each iteration up to k)\n",
    "# Also get RC for all....\n",
    "\n",
    "def kmer_processor(seq,offset):\n",
    "    return list(map(convert_kmer_to_int, get_kmers(k)(seq[offset:])))\n",
    "\n",
    "def get_kmers_from_seq(sequence):\n",
    "    kmers_from_seq = list()\n",
    "\n",
    "    kp = functools.partial(kmer_processor, sequence)\n",
    "    \n",
    "    for i in map(kp, range(0,k)):\n",
    "        kmers_from_seq.append(i)\n",
    "\n",
    "    rev = sequence[::-1]\n",
    "    kpr = functools.partial(kmer_processor, rev)\n",
    "    \n",
    "    for i in map(kpr, range(0,k)):\n",
    "        kmers_from_seq.append(i)\n",
    "            \n",
    "#    for i in range(0,k):\n",
    "#        kmers_from_seq.append(kmer_processor(sequence,i))\n",
    "#    for i in range(0,k):\n",
    "#        kmers_from_seq.append(kmer_processor(rev, i))\n",
    "    return kmers_from_seq\n",
    "\n",
    "data = list()\n",
    "\n",
    "def load_fasta(filename):\n",
    "    data = dict()\n",
    "    for seq_record in SeqIO.parse(filename, \"fasta\"):\n",
    "        data.update({seq_record.id:\n",
    "                     get_kmers_from_seq(seq_record.seq.upper())})\n",
    "    return(data)\n",
    "        \n",
    "def get_kmers_from_file(filename):\n",
    "    kmer_list = list()\n",
    "    for seq_record in SeqIO.parse(filename, \"fasta\"):\n",
    "        kmer_list.extend(get_kmers_from_seq(seq_record.seq.upper()))\n",
    "    return set([item for sublist in kmer_list for item in sublist])\n",
    "\n",
    "all_kmers = set()\n",
    "\n",
    "# Very slow, should make this part concurrent...\n",
    "\n",
    "def find_all_kmers(directory):\n",
    "    kmer_master_list = list()\n",
    "    files = [directory + \"/\" + f for f in os.listdir(directory)]\n",
    "    with concurrent.futures.ThreadPoolExecutor(max_workers=4) as executor:\n",
    "        for i in executor.map(get_kmers_from_file, files):\n",
    "            kmer_master_list.extend(list(i))\n",
    "            kmer_master_list = list(set(kmer_master_list))\n",
    "            print(\"Total unique kmers: \" + str(len(set(kmer_master_list))))\n",
    "    return set(kmer_master_list)\n",
    "\n",
    "def get_categories(directory):\n",
    "    data = list()\n",
    "    files = os.listdir(directory)\n",
    "    for filename in files:\n",
    "        for seq_record in SeqIO.parse(directory + \"/\" + filename, \"fasta\"):\n",
    "            data.append(seq_record.id)\n",
    "    data = sorted(list(set(data)))\n",
    "    return(data)"
   ]
  },
  {
   "cell_type": "code",
   "execution_count": 2,
   "metadata": {
    "collapsed": false
   },
   "outputs": [],
   "source": [
    "# filegen = training_file_generator(\"training-files/\")\n",
    "\n",
    "# training_data = load_fasta(filegen())\n"
   ]
  },
  {
   "cell_type": "code",
   "execution_count": null,
   "metadata": {
    "collapsed": false
   },
   "outputs": [],
   "source": []
  },
  {
   "cell_type": "code",
   "execution_count": 3,
   "metadata": {
    "collapsed": false
   },
   "outputs": [],
   "source": [
    "replicons_list = get_categories(\"training-files/\")\n"
   ]
  },
  {
   "cell_type": "code",
   "execution_count": 4,
   "metadata": {
    "collapsed": false
   },
   "outputs": [
    {
     "data": {
      "text/plain": [
       "269132"
      ]
     },
     "execution_count": 4,
     "metadata": {},
     "output_type": "execute_result"
    }
   ],
   "source": [
    "# Because this was run at work on a smaller sample of files....\n",
    "# with open(\"all_kmers_subset.txt\", \"w\") as f:\n",
    "#     for s in all_kmers:\n",
    "#         f.write(str(s) +\"\\n\")\n",
    "\n",
    "# Because this was run at work on a smaller sample of files....\n",
    "all_kmers = list()\n",
    "# with open(\"all_kmers_subset.txt\", \"r\") as f:\n",
    "#     for line in f:\n",
    "#         all_kmers.append(int(line.strip()))\n",
    "\n",
    "all_kmers = pickle.load(open(\"all_kmers.p\", \"rb\"))\n",
    "\n",
    "all_kmers = set(all_kmers)\n",
    "len(all_kmers)"
   ]
  },
  {
   "cell_type": "code",
   "execution_count": 5,
   "metadata": {
    "collapsed": false
   },
   "outputs": [
    {
     "data": {
      "text/plain": [
       "[269132, 1683993, 1953125]"
      ]
     },
     "execution_count": 5,
     "metadata": {},
     "output_type": "execute_result"
    }
   ],
   "source": [
    "# len(data)\n",
    "\n",
    "# all_kmers = set([item for sublist in data for item in sublist])\n",
    "unused_kmers = set(range(0, space)) - all_kmers\n",
    "\n",
    "kmer_dict = dict()\n",
    "reverse_kmer_dict = dict();\n",
    "\n",
    "a = 0\n",
    "for i in all_kmers:\n",
    "    kmer_dict[i] = a\n",
    "    reverse_kmer_dict[a] = i\n",
    "    a += 1\n",
    "    \n",
    "kmer_count = len(all_kmers)\n",
    "\n",
    "[len(all_kmers), len(unused_kmers), space]"
   ]
  },
  {
   "cell_type": "code",
   "execution_count": 16,
   "metadata": {
    "collapsed": false
   },
   "outputs": [],
   "source": [
    "def training_file_generator(directory):\n",
    "    files = [directory + \"/\" + f for f in os.listdir(directory)]\n",
    "    random.shuffle(files)\n",
    "    def gen():\n",
    "        nonlocal files\n",
    "        if (len(files) == 0):\n",
    "            files = [directory + \"/\" + f for f in os.listdir(directory)]\n",
    "            random.shuffle(files)\n",
    "        return(files.pop())\n",
    "    return gen\n",
    "\n",
    "def gen_random_training_data(input_data, window_size):\n",
    "    rname = random.choice(list(input_data.keys()))\n",
    "    rdata = random.choice(input_data[rname])\n",
    "    idx = random.randrange(window_size + 1, len(rdata) - window_size - 1)\n",
    "    tdata = list();\n",
    "    for i in range(idx - window_size - 1, idx + window_size):\n",
    "        if (i < 0): continue\n",
    "        if (i >= len(rdata)): break\n",
    "        if type(rdata[idx]) == list: break;\n",
    "        if type(rdata[i]) == list: break\n",
    "        tdata.append(kmer_dict[rdata[i]])\n",
    "    return tdata, rname\n",
    "\n",
    "# The current state is, each training batch is from a single FASTA file (strain, usually)\n",
    "# This can be ok, as long as training batch is a large number\n",
    "# Need to speed up reading of FASTA files though, maybe pyfaidx or something?\n",
    "\n",
    "# Define the one-hot dictionary...\n",
    "oh = dict()\n",
    "a = 0\n",
    "for i in replicons_list:\n",
    "    oh[i] = tf.one_hot(a, len(replicons_list))\n",
    "    a += 1\n",
    "\n",
    "oh\n",
    "\n",
    "def generate_training_batch(data, batch_size, window_size):\n",
    "    training_batch_data = list();\n",
    "    while len(training_batch_data) < batch_size:\n",
    "         training_batch_data.append(gen_random_training_data(data, \n",
    "                                                             window_size))\n",
    "    return training_batch_data\n",
    "\n",
    "def train_input_fn():\n",
    "    rdata = generate_training_batch(training_data, 1, window_size)[0]\n",
    "    return {\"kmer_input\": tf.nn.embedding_lookup(embeddings, rdata[0])}, oh[rdata[1]]\n",
    "        "
   ]
  },
  {
   "cell_type": "code",
   "execution_count": 17,
   "metadata": {
    "collapsed": false
   },
   "outputs": [
    {
     "data": {
      "text/plain": [
       "({'kmer_input': <tf.Tensor 'embedding_lookup_1:0' shape=(15, 128) dtype=float32>},\n",
       " <tf.Tensor 'one_hot_5:0' shape=(3,) dtype=float32>)"
      ]
     },
     "execution_count": 17,
     "metadata": {},
     "output_type": "execute_result"
    }
   ],
   "source": [
    "# filegen = training_file_generator(\"training-files/\")\n",
    "\n",
    "# training_data = load_fasta(filegen())\n",
    "# training_data_backup = training_data\n",
    "\n",
    "# len(training_data)\n",
    "\n",
    "# gen_random_training_data(training_data, 7)\n",
    "\n",
    "# generate_training_batch(training_data, 5, 7)\n",
    "\n",
    "# random.choice(list(input_data.keys()))\n",
    "\n",
    "train_input_fn()"
   ]
  },
  {
   "cell_type": "code",
   "execution_count": 22,
   "metadata": {
    "collapsed": false
   },
   "outputs": [
    {
     "data": {
      "text/plain": [
       "([221344,\n",
       "  4702,\n",
       "  141062,\n",
       "  206585,\n",
       "  220250,\n",
       "  209478,\n",
       "  171921,\n",
       "  97550,\n",
       "  135215,\n",
       "  219912,\n",
       "  115179,\n",
       "  151919,\n",
       "  238914,\n",
       "  189583,\n",
       "  149776],\n",
       " 'Main')"
      ]
     },
     "execution_count": 22,
     "metadata": {},
     "output_type": "execute_result"
    }
   ],
   "source": [
    "valid_examples[0]"
   ]
  },
  {
   "cell_type": "code",
   "execution_count": 31,
   "metadata": {
    "collapsed": false
   },
   "outputs": [],
   "source": [
    "filegen = training_file_generator(\"training-files/\")\n",
    "\n",
    "# training_data = load_fasta(filegen())\n",
    "\n",
    "batch_size = 1024\n",
    "embedding_size = 128\n",
    "window_size = 7\n",
    "\n",
    "validation_set = generate_training_batch(training_data, 10000, window_size)\n",
    "# validation_kmers = list(set([i[0] for i in validation_set]))\n",
    "# del validation_set\n",
    "\n",
    "# We pick a random validation set to sample nearest neighbors. Here we limit the\n",
    "# validation samples to the words that have a low numeric ID, which by\n",
    "# construction are also the most frequent.\n",
    "valid_size = 1024\n",
    "valid_examples = [i[0] for i in validation_set]\n",
    "num_sampled = 256\n",
    "del validation_set\n",
    "\n",
    "learning_rate = 0.1\n",
    "\n",
    "# Network Parameters\n",
    "n_hidden_1 = 500\n",
    "n_hidden_2 = 50\n",
    "\n"
   ]
  },
  {
   "cell_type": "code",
   "execution_count": null,
   "metadata": {
    "collapsed": false
   },
   "outputs": [],
   "source": []
  },
  {
   "cell_type": "code",
   "execution_count": null,
   "metadata": {
    "collapsed": false
   },
   "outputs": [],
   "source": [
    "# https://github.com/aymericdamien/TensorFlow-Examples/blob/master/examples/3_NeuralNetworks/neural_network_raw.py\n",
    "# look there for further inspiration"
   ]
  },
  {
   "cell_type": "code",
   "execution_count": null,
   "metadata": {
    "collapsed": false
   },
   "outputs": [],
   "source": [
    "graph = tf.Graph()\n",
    "\n",
    "with graph.as_default():\n",
    "    \n",
    "  # Load embedding\n",
    "  kmers = tf.Variable(tf.constant(0.0, shape=[kmer_count, 128]),\n",
    "                     trainable=False, name=\"kmers\")\n",
    "\n",
    "  embeddings = np.load(\"embeddings_200000.npy\")\n",
    "\n",
    "  embedding_placeholder = tf.placeholder(tf.float32, [kmer_count, 128])\n",
    "  embedding_init = kmers.assign(embeddings)\n",
    "\n",
    "  # Input data.\n",
    "  # Take 1 kmer and the 7 on each side of it\n",
    "  # So for k=9, we are testing 135bp\n",
    "  # So n = 15\n",
    "  train_input = tf.placeholder(tf.int32, shape=[None, 15]) \n",
    "  train_label = tf.placeholder(tf.int32, shape=[None, len(replicons_list)])\n",
    "  valid_dataset = tf.constant(valid_examples, dtype=tf.int32)\n",
    "  \n",
    "  kmer_input = tf.nn.embedding_lookup(embeddings, train_input)\n",
    "    \n",
    "  replicons = tf.placeholder(tf.int16, shape=[len(replicons_list)])\n",
    "\n",
    "  l1 = tf.layers.dense(train_input, n_hidden_1)\n",
    "  l2 = tf.layers.dense(l1, n_hidden_2)\n",
    "  output = tf.layers.dense(l2, len(replicons_list))\n",
    "    \n",
    "  logits = output\n",
    "\n",
    "  pred_classes = tf.argmax(logits, axis=1)\n",
    "  pred_probas = tf.nn.softmax(logits)\n",
    "\n",
    "  loss = tf.reduce_mean(tf.nn.sprase_softmax_cross_entropy_with_logits(logits = logits))\n",
    "  optimized = tf.train.GradientDescentOptimizer(learning_rate=learning_rate)\n",
    "  train = optimizer.minimize(loss, global_step=tf.train.get_global_step())\n",
    "    \n",
    "  acc = tf.metrics.accuracy(predictions=pred_classes)\n",
    "\n",
    "  estim_specs = tf.estimator.EstimatorSpec(mode=mode,\n",
    "                                          predictions=pred_classes,\n",
    "                                          loss=loss,\n",
    "                                          train=train,\n",
    "                                          eval_metric_ops={'accuracy': acc})\n",
    "\n",
    "#  m = tf.estimator.DNNLinearCombinedClassifier(\n",
    "#           model_dir=model_dir,\n",
    "#           n_classes=len(replicons_list),\n",
    "#           dnn_feature_columns=[kmers],\n",
    "#           dnn_hidden_units=[100,50])\n",
    "\n",
    "#  m = tf.estimator.DNNClassifier(\n",
    "#            feature_columns=[kmer_input, replicons],\n",
    "#            hidden_units=[500,50],\n",
    "#            n_classes=len(replicons_list),\n",
    "#            model_dir=model_dir)\n",
    "#    \n",
    "#  m.train(input_fn=train_input_fn, steps=1)\n",
    "\n",
    "  # Add variable initializer.\n",
    "#   init = tf.global_variables_initializer()\n",
    "#   saver = tf.train.Saver()"
   ]
  },
  {
   "cell_type": "code",
   "execution_count": null,
   "metadata": {
    "collapsed": false
   },
   "outputs": [],
   "source": [
    "num_steps = 5\n",
    "\n",
    "executor = concurrent.futures.ThreadPoolExecutor(max_workers=2)\n",
    "future = executor.submit(load_fasta, filegen())\n",
    "\n",
    "tdata = list()\n",
    "tdata = future.result()\n",
    "print(\"tdata length: \", str(len(tdata)))\n",
    "\n",
    "with tf.Session(graph=graph, config=tf.ConfigProto(log_device_placement=True)) as session:\n",
    "  # We must initialize all variables before we use them.\n",
    "  init.run()\n",
    "  print('Initialized')\n",
    "\n",
    "  average_loss = 0\n",
    "  for step in xrange(num_steps):\n",
    "    \n",
    "    if step % 15000 == 0: # Change files every 15k steps\n",
    "        print(\"Loading new file at step: \", step)\n",
    "        # Start loading the next file, so it has time to finish while the neural net does its training\n",
    "        tdata = future.result()\n",
    "        future = executor.submit(load_fasta, filegen())\n",
    "        \n",
    "    if step == 5:\n",
    "        print(\"Reached step 5!\")\n",
    "        \n",
    "    if len(tdata) == 0:\n",
    "        print(\"Using short-circuit load-fasta at step: \", step)\n",
    "        tdata = load_fasta(filegen()) # Emergency short-circuit here....\n",
    "        \n",
    "    batch_data = generate_training_batch(tdata, batch_size, window_size)\n",
    "    feed_dict = {train_inputs: [x[0] for x in batch_data], \n",
    "                 train_labels: [[x[1]] for x in batch_data]}\n",
    "\n",
    "    # We perform one update step by evaluating the optimizer op (including it\n",
    "    # in the list of returned values for session.run()\n",
    "    _, loss_val = session.run([optimizer, loss], feed_dict=feed_dict)\n",
    "    average_loss += loss_val\n",
    "\n",
    "    # Print status every 10k steps\n",
    "    if step % 10000 == 0:\n",
    "        if step > 0:\n",
    "            average_loss /= 2000\n",
    "            # The average loss is an estimate of the loss over the last 2000 batches.\n",
    "        print('Average loss at step ', step, ': ', average_loss)\n",
    "        average_loss = 0\n",
    "    \n",
    "    # Save every 50k steps\n",
    "#    if step % 100000 == 0:\n",
    "#        print(\"Saving model at step: \", step)\n",
    "#        saver.save(session, './replicon-model', global_step=step)\n",
    "#        print(\"Saved model at step: \", step)\n",
    "\n",
    "        \n",
    "#    if step % 20000 == 0:\n",
    "#        sim = similarity.eval()\n",
    "#        accuracy = 0\n",
    "#        for i in range(0, 100):\n",
    "#            rand_kmer = random.choice(list(validation_dict.keys()))\n",
    "#            top_k = 10\n",
    "#            nearest = (-sim[rand_kmer, :]).argsort()[1:top_k + 1]\n",
    "            \n"
   ]
  },
  {
   "cell_type": "code",
   "execution_count": null,
   "metadata": {
    "collapsed": false
   },
   "outputs": [],
   "source": []
  },
  {
   "cell_type": "code",
   "execution_count": null,
   "metadata": {
    "collapsed": true
   },
   "outputs": [],
   "source": []
  },
  {
   "cell_type": "code",
   "execution_count": null,
   "metadata": {
    "collapsed": true
   },
   "outputs": [],
   "source": []
  }
 ],
 "metadata": {
  "kernelspec": {
   "display_name": "Python 3",
   "language": "python",
   "name": "python3"
  },
  "language_info": {
   "codemirror_mode": {
    "name": "ipython",
    "version": 3
   },
   "file_extension": ".py",
   "mimetype": "text/x-python",
   "name": "python",
   "nbconvert_exporter": "python",
   "pygments_lexer": "ipython3",
   "version": "3.6.0"
  }
 },
 "nbformat": 4,
 "nbformat_minor": 2
}
